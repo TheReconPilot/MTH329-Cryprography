{
 "cells": [
  {
   "cell_type": "code",
   "execution_count": 1,
   "id": "found-arkansas",
   "metadata": {},
   "outputs": [],
   "source": [
    "from PermutationCipher import PermutationCipher\n",
    "pc = PermutationCipher(keylength=7)"
   ]
  },
  {
   "cell_type": "code",
   "execution_count": 2,
   "id": "applicable-queue",
   "metadata": {},
   "outputs": [
    {
     "name": "stdout",
     "output_type": "stream",
     "text": [
      "ciphertext = 'derkhtaedftisoofceehrpathsiatymaawobaliyniseomitsnoidcesoteurebtarannuxxxxxlx'\n"
     ]
    }
   ],
   "source": [
    "plaintext = \"thedarksideoftheforceisapathwaytomanyabilitiessomeconsidertobeunnatural\"\n",
    "ciphertext = pc.encrypt(plaintext)\n",
    "keylength = 7\n",
    "\n",
    "print(f\"{ciphertext = }\")"
   ]
  },
  {
   "cell_type": "code",
   "execution_count": 3,
   "id": "tested-place",
   "metadata": {},
   "outputs": [],
   "source": [
    "def known_plaintext_attack(plaintext, ciphertext, keylength):\n",
    "    \n",
    "    # Split into blocks\n",
    "    blocks = {plaintext[i:i+keylength]: ciphertext[i:i+keylength] for i in range(0, len(plaintext), keylength)}\n",
    "    \n",
    "    # Find blocks with all unique characters\n",
    "    unique_blocks = {pt: blocks[pt] for pt in blocks if len(pt) == len(set(pt))}\n",
    "    \n",
    "    if not unique_blocks:\n",
    "        print(\"No unique blocks\")\n",
    "        return []\n",
    "    \n",
    "    # Take the first unique block and corresponding ciphertext\n",
    "    pt = list(unique_blocks.keys())[0]\n",
    "    ct = unique_blocks[pt]\n",
    "    \n",
    "    probable_key = list(range(keylength))\n",
    "    \n",
    "    # The attack\n",
    "    current_index = 0\n",
    "    for i in range(keylength):\n",
    "        probable_key[i] = ct.index(pt[current_index])\n",
    "        current_index = probable_key[i]\n",
    "    \n",
    "    # Reverse the key\n",
    "    probable_key = probable_key[::-1]\n",
    "    \n",
    "    return probable_key"
   ]
  },
  {
   "cell_type": "code",
   "execution_count": 4,
   "id": "permanent-dutch",
   "metadata": {},
   "outputs": [
    {
     "data": {
      "text/plain": [
       "[0, 3, 6, 4, 1, 2, 5]"
      ]
     },
     "execution_count": 4,
     "metadata": {},
     "output_type": "execute_result"
    }
   ],
   "source": [
    "obtained_key = known_plaintext_attack(plaintext, ciphertext, keylength)\n",
    "obtained_key"
   ]
  },
  {
   "cell_type": "code",
   "execution_count": 5,
   "id": "chief-couple",
   "metadata": {},
   "outputs": [
    {
     "data": {
      "text/plain": [
       "'thedarksideoftheforceisapathwaytomanyabilitiessomeconsidertobeunnatural'"
      ]
     },
     "execution_count": 5,
     "metadata": {},
     "output_type": "execute_result"
    }
   ],
   "source": [
    "testpc = PermutationCipher(key=obtained_key)\n",
    "testpc.decrypt(ciphertext)"
   ]
  },
  {
   "cell_type": "code",
   "execution_count": 6,
   "id": "reliable-turkey",
   "metadata": {},
   "outputs": [
    {
     "data": {
      "text/plain": [
       "[5, 0, 3, 6, 4, 1, 2]"
      ]
     },
     "execution_count": 6,
     "metadata": {},
     "output_type": "execute_result"
    }
   ],
   "source": [
    "# Original Key\n",
    "pc.get_key()"
   ]
  },
  {
   "cell_type": "code",
   "execution_count": 7,
   "id": "functional-tourist",
   "metadata": {},
   "outputs": [],
   "source": [
    "def chosen_plaintext_attack(PermutationCipher, keylength):\n",
    "    # Generate a block of plaintext with all unique characters\n",
    "    pt = ''.join([chr(i + 65) for i in range(keylength)])\n",
    "    ct = PermutationCipher.encrypt(pt)\n",
    "    \n",
    "    return known_plaintext_attack(pt, ct, keylength)"
   ]
  },
  {
   "cell_type": "code",
   "execution_count": 8,
   "id": "seven-blowing",
   "metadata": {},
   "outputs": [
    {
     "data": {
      "text/plain": [
       "[0, 3, 6, 4, 1, 2, 5]"
      ]
     },
     "execution_count": 8,
     "metadata": {},
     "output_type": "execute_result"
    }
   ],
   "source": [
    "chosen_plaintext_attack(pc, keylength)"
   ]
  },
  {
   "cell_type": "code",
   "execution_count": null,
   "id": "checked-simple",
   "metadata": {},
   "outputs": [],
   "source": []
  }
 ],
 "metadata": {
  "kernelspec": {
   "display_name": "Python 3",
   "language": "python",
   "name": "python3"
  },
  "language_info": {
   "codemirror_mode": {
    "name": "ipython",
    "version": 3
   },
   "file_extension": ".py",
   "mimetype": "text/x-python",
   "name": "python",
   "nbconvert_exporter": "python",
   "pygments_lexer": "ipython3",
   "version": "3.8.6"
  }
 },
 "nbformat": 4,
 "nbformat_minor": 5
}

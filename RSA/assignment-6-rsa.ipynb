{
 "cells": [
  {
   "cell_type": "markdown",
   "id": "basic-notification",
   "metadata": {},
   "source": [
    "# Q5"
   ]
  },
  {
   "cell_type": "code",
   "execution_count": 1,
   "id": "endless-hepatitis",
   "metadata": {},
   "outputs": [],
   "source": [
    "from math import gcd\n",
    "def pm1(n, B):\n",
    "    a = 2\n",
    "    b = a % n\n",
    "    \n",
    "    for j in range(2, B + 1):\n",
    "        # Compute b^j mod n\n",
    "        b = pow(b, j, n)\n",
    "    \n",
    "    d = gcd(b - 1, n)\n",
    "    if d == 1:\n",
    "        print(\"No factor found. Increase bound.\")\n",
    "    else:\n",
    "        return d"
   ]
  },
  {
   "cell_type": "code",
   "execution_count": 2,
   "id": "successful-baker",
   "metadata": {},
   "outputs": [
    {
     "data": {
      "text/plain": [
       "364438989216827965440001"
      ]
     },
     "execution_count": 2,
     "metadata": {},
     "output_type": "execute_result"
    }
   ],
   "source": [
    "n = 8834884587090814646372459890377418962766907\n",
    "factor = pm1(n, B=100)\n",
    "factor"
   ]
  },
  {
   "cell_type": "code",
   "execution_count": 3,
   "id": "eligible-queens",
   "metadata": {},
   "outputs": [
    {
     "name": "stdout",
     "output_type": "stream",
     "text": [
      "n % factor = 0\n",
      "n // factor = 24242424242468686907\n"
     ]
    }
   ],
   "source": [
    "# Print remainder to check it is an actual factor\n",
    "print(f\"{n % factor = }\")\n",
    "\n",
    "# Divide to find other factor and print it\n",
    "print(f\"{n // factor = }\")"
   ]
  },
  {
   "cell_type": "markdown",
   "id": "better-melbourne",
   "metadata": {},
   "source": [
    "# Q6"
   ]
  },
  {
   "cell_type": "code",
   "execution_count": 4,
   "id": "opened-meaning",
   "metadata": {},
   "outputs": [
    {
     "name": "stdout",
     "output_type": "stream",
     "text": [
      "9876469\n",
      "54378659\n"
     ]
    }
   ],
   "source": [
    "n = 537069139875071\n",
    "a = 85975324443166\n",
    "b = 462436106261\n",
    "\n",
    "p = gcd(a-b, n)\n",
    "print(p)\n",
    "\n",
    "q = n // p\n",
    "print(q)"
   ]
  },
  {
   "cell_type": "markdown",
   "id": "strange-welcome",
   "metadata": {},
   "source": [
    "# Q7"
   ]
  },
  {
   "cell_type": "code",
   "execution_count": 5,
   "id": "settled-girlfriend",
   "metadata": {},
   "outputs": [
    {
     "name": "stdout",
     "output_type": "stream",
     "text": [
      "Help on function crt in module sympy.ntheory.modular:\n",
      "\n",
      "crt(m, v, symmetric=False, check=True)\n",
      "    Chinese Remainder Theorem.\n",
      "    \n",
      "    The moduli in m are assumed to be pairwise coprime.  The output\n",
      "    is then an integer f, such that f = v_i mod m_i for each pair out\n",
      "    of v and m. If ``symmetric`` is False a positive integer will be\n",
      "    returned, else \\|f\\| will be less than or equal to the LCM of the\n",
      "    moduli, and thus f may be negative.\n",
      "    \n",
      "    If the moduli are not co-prime the correct result will be returned\n",
      "    if/when the test of the result is found to be incorrect. This result\n",
      "    will be None if there is no solution.\n",
      "    \n",
      "    The keyword ``check`` can be set to False if it is known that the moduli\n",
      "    are coprime.\n",
      "    \n",
      "    Examples\n",
      "    ========\n",
      "    \n",
      "    As an example consider a set of residues ``U = [49, 76, 65]``\n",
      "    and a set of moduli ``M = [99, 97, 95]``. Then we have::\n",
      "    \n",
      "       >>> from sympy.ntheory.modular import crt\n",
      "    \n",
      "       >>> crt([99, 97, 95], [49, 76, 65])\n",
      "       (639985, 912285)\n",
      "    \n",
      "    This is the correct result because::\n",
      "    \n",
      "       >>> [639985 % m for m in [99, 97, 95]]\n",
      "       [49, 76, 65]\n",
      "    \n",
      "    If the moduli are not co-prime, you may receive an incorrect result\n",
      "    if you use ``check=False``:\n",
      "    \n",
      "       >>> crt([12, 6, 17], [3, 4, 2], check=False)\n",
      "       (954, 1224)\n",
      "       >>> [954 % m for m in [12, 6, 17]]\n",
      "       [6, 0, 2]\n",
      "       >>> crt([12, 6, 17], [3, 4, 2]) is None\n",
      "       True\n",
      "       >>> crt([3, 6], [2, 5])\n",
      "       (5, 6)\n",
      "    \n",
      "    Note: the order of gf_crt's arguments is reversed relative to crt,\n",
      "    and that solve_congruence takes residue, modulus pairs.\n",
      "    \n",
      "    Programmer's note: rather than checking that all pairs of moduli share\n",
      "    no GCD (an O(n**2) test) and rather than factoring all moduli and seeing\n",
      "    that there is no factor in common, a check that the result gives the\n",
      "    indicated residuals is performed -- an O(n) operation.\n",
      "    \n",
      "    See Also\n",
      "    ========\n",
      "    \n",
      "    solve_congruence\n",
      "    sympy.polys.galoistools.gf_crt : low level crt routine used by this routine\n",
      "\n"
     ]
    }
   ],
   "source": [
    "from sympy.ntheory.modular import crt\n",
    "help (crt)"
   ]
  },
  {
   "cell_type": "code",
   "execution_count": 6,
   "id": "homeless-consumer",
   "metadata": {},
   "outputs": [
    {
     "data": {
      "text/plain": [
       "1006856505147845013"
      ]
     },
     "execution_count": 6,
     "metadata": {},
     "output_type": "execute_result"
    }
   ],
   "source": [
    "p = 985739879\n",
    "q = 1388749507\n",
    "n = p * q\n",
    "\n",
    "# First list contains all the modulus, and second list contains \n",
    "x = crt([p, q], [81, -81])[0]\n",
    "x"
   ]
  },
  {
   "cell_type": "markdown",
   "id": "literary-beijing",
   "metadata": {},
   "source": [
    "# Q8"
   ]
  },
  {
   "cell_type": "code",
   "execution_count": 7,
   "id": "eight-glenn",
   "metadata": {},
   "outputs": [
    {
     "name": "stdout",
     "output_type": "stream",
     "text": [
      "54323\n",
      "12347\n"
     ]
    }
   ],
   "source": [
    "n = 670726081\n",
    "a = 670705093\n",
    "b = 33335\n",
    "\n",
    "p = gcd(a-b, n)\n",
    "print(p)\n",
    "\n",
    "q = n // p\n",
    "print(q)"
   ]
  },
  {
   "cell_type": "markdown",
   "id": "baking-immunology",
   "metadata": {},
   "source": [
    "# Q9"
   ]
  },
  {
   "cell_type": "code",
   "execution_count": 8,
   "id": "dangerous-decrease",
   "metadata": {},
   "outputs": [
    {
     "name": "stdout",
     "output_type": "stream",
     "text": [
      "3511\n",
      "1093\n"
     ]
    }
   ],
   "source": [
    "n = 3837523\n",
    "a = 1488665\n",
    "b = 1\n",
    "\n",
    "p = gcd(a-b, n)\n",
    "print(p)\n",
    "\n",
    "q = n // p\n",
    "print(q)"
   ]
  },
  {
   "cell_type": "markdown",
   "id": "amber-understanding",
   "metadata": {},
   "source": [
    "# Q10"
   ]
  },
  {
   "cell_type": "code",
   "execution_count": 9,
   "id": "searching-academy",
   "metadata": {},
   "outputs": [],
   "source": [
    "from sympy.ntheory.primetest import is_square\n",
    "import decimal\n",
    "\n",
    "def fermat(n):\n",
    "    y = 1\n",
    "    while not is_square(n + y*y):\n",
    "        y += 1\n",
    "    \n",
    "    # Set decimal precision to 56 for large numbers\n",
    "    decimal.getcontext().prec = 56\n",
    "    \n",
    "    x = int(decimal.Decimal(n + y*y).sqrt())\n",
    "    \n",
    "    return (x - y, x + y)"
   ]
  },
  {
   "cell_type": "code",
   "execution_count": 10,
   "id": "occasional-battle",
   "metadata": {},
   "outputs": [],
   "source": [
    "def compute_d(p, q, e):\n",
    "    phi = (p - 1) * (q - 1)\n",
    "    d = pow(e, -1, phi)\n",
    "    \n",
    "    return d"
   ]
  },
  {
   "cell_type": "code",
   "execution_count": 11,
   "id": "independent-pocket",
   "metadata": {},
   "outputs": [],
   "source": [
    "def text2int(message):\n",
    "    # Convert to lowercase for uniformity\n",
    "    message = message.lower()\n",
    "    ciphertext = \"\"\n",
    "    \n",
    "    for character in message:\n",
    "        # Handle spaces specially\n",
    "        if character == \" \":\n",
    "            ciphertext += \"00\"\n",
    "            continue\n",
    "        # Pad with \"0\" on left and take last two characters\n",
    "        ciphertext += (\"0\" + str(ord(character) - 96))[-2:]\n",
    "    \n",
    "    return int(ciphertext)"
   ]
  },
  {
   "cell_type": "code",
   "execution_count": 12,
   "id": "fewer-melissa",
   "metadata": {},
   "outputs": [],
   "source": [
    "def int2text(number):\n",
    "    number = str(number)\n",
    "    \n",
    "    # Append \"0\" on left if odd length string\n",
    "    if len(number) % 2 != 0:\n",
    "        number = \"0\" + number\n",
    "    \n",
    "    # Split into groups of two-digit numbers\n",
    "    character_nums = [number[i:i+2] for i in range(0, len(number), 2)]\n",
    "    \n",
    "    # Convert each group into characters\n",
    "    characters = [chr(int(i) + 96) for i in character_nums]\n",
    "    \n",
    "    message = ''.join(characters)\n",
    "    \n",
    "    # Replace the character ` (ASCII 96) to space\n",
    "    message = message.replace('`', ' ')\n",
    "    \n",
    "    return message"
   ]
  },
  {
   "cell_type": "code",
   "execution_count": 13,
   "id": "acting-yesterday",
   "metadata": {},
   "outputs": [],
   "source": [
    "def rsa_decrypt(ciphertext, n, d):\n",
    "    return int2text(pow(ciphertext, d, n))"
   ]
  },
  {
   "cell_type": "code",
   "execution_count": 14,
   "id": "organizational-ordering",
   "metadata": {},
   "outputs": [
    {
     "name": "stdout",
     "output_type": "stream",
     "text": [
      "p = 104849\n",
      "q = 104851\n",
      "d = 5545299377\n",
      "m = 'easy'\n"
     ]
    }
   ],
   "source": [
    "n = 10993522499\n",
    "e = 113\n",
    "c = 10787770728\n",
    "\n",
    "p, q = fermat(n)\n",
    "d = compute_d(p, q, e)\n",
    "m = rsa_decrypt(c, n, d)\n",
    "\n",
    "print(f\"{p = }\")\n",
    "print(f\"{q = }\")\n",
    "print(f\"{d = }\")\n",
    "print(f\"{m = }\")"
   ]
  },
  {
   "cell_type": "code",
   "execution_count": 15,
   "id": "pursuant-thinking",
   "metadata": {},
   "outputs": [
    {
     "name": "stdout",
     "output_type": "stream",
     "text": [
      "p = 12345678900000031415926500031\n",
      "q = 12345678900000031415926500143\n",
      "d = 66046277186625853468906938024685131899784936049279925683\n",
      "m = 'this number was not secure'\n"
     ]
    }
   ],
   "source": [
    "n = 152415787501905985701881832150835089037858868621211004433\n",
    "c = 141077461765569500241199505617854673388398574333341423525\n",
    "e = 9007\n",
    "\n",
    "p, q = fermat(n)\n",
    "d = compute_d(p, q, e)\n",
    "m = rsa_decrypt(c, n, d)\n",
    "\n",
    "print(f\"{p = }\")\n",
    "print(f\"{q = }\")\n",
    "print(f\"{d = }\")\n",
    "print(f\"{m = }\")"
   ]
  },
  {
   "cell_type": "code",
   "execution_count": null,
   "id": "average-trinity",
   "metadata": {},
   "outputs": [],
   "source": []
  }
 ],
 "metadata": {
  "kernelspec": {
   "display_name": "Python 3",
   "language": "python",
   "name": "python3"
  },
  "language_info": {
   "codemirror_mode": {
    "name": "ipython",
    "version": 3
   },
   "file_extension": ".py",
   "mimetype": "text/x-python",
   "name": "python",
   "nbconvert_exporter": "python",
   "pygments_lexer": "ipython3",
   "version": "3.8.6"
  }
 },
 "nbformat": 4,
 "nbformat_minor": 5
}
